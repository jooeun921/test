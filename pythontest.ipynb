{
 "cells": [
  {
   "cell_type": "markdown",
   "metadata": {},
   "source": [
    "### 2024-12-19"
   ]
  },
  {
   "cell_type": "markdown",
   "metadata": {},
   "source": [
    "## 파이썬 기본 문법"
   ]
  },
  {
   "cell_type": "code",
   "execution_count": 1,
   "metadata": {},
   "outputs": [
    {
     "data": {
      "text/plain": [
       "22"
      ]
     },
     "execution_count": 1,
     "metadata": {},
     "output_type": "execute_result"
    }
   ],
   "source": [
    "1+3\n",
    "4+32\n",
    "21+1"
   ]
  },
  {
   "cell_type": "code",
   "execution_count": 6,
   "metadata": {},
   "outputs": [
    {
     "name": "stdout",
     "output_type": "stream",
     "text": [
      "Hello\n",
      "Python\n",
      "홍길동 나이 = 20세20Python\n"
     ]
    }
   ],
   "source": [
    "print(\"Hello\")\n",
    "print(\"Python\")\n",
    "print(\"홍길동 나이 = 20세\", 20, sep = '', end = '')\n",
    "print(\"Python\")"
   ]
  },
  {
   "cell_type": "code",
   "execution_count": 10,
   "metadata": {},
   "outputs": [
    {
     "name": "stdout",
     "output_type": "stream",
     "text": [
      "고양이 나이 4\n"
     ]
    }
   ],
   "source": [
    "name = '고양이'\n",
    "age = 4\n",
    "\n",
    "print(name, '나이', age)"
   ]
  },
  {
   "cell_type": "code",
   "execution_count": 12,
   "metadata": {},
   "outputs": [
    {
     "name": "stdout",
     "output_type": "stream",
     "text": [
      "3\n"
     ]
    }
   ],
   "source": [
    "bool('True')"
   ]
  },
  {
   "cell_type": "code",
   "execution_count": 14,
   "metadata": {},
   "outputs": [
    {
     "name": "stdout",
     "output_type": "stream",
     "text": [
      "1 2 3 4\n"
     ]
    }
   ],
   "source": [
    "n = 1234\n",
    "\n",
    "one = n//1000\n",
    "two = (n%1000)//100\n",
    "three = (n%100)//10\n",
    "four = n%10\n",
    "\n",
    "print(one, two, three, four)"
   ]
  },
  {
   "cell_type": "code",
   "execution_count": 16,
   "metadata": {},
   "outputs": [
    {
     "name": "stdout",
     "output_type": "stream",
     "text": [
      "12345600\n"
     ]
    }
   ],
   "source": [
    "# 업그레이드미션 1 \n",
    "pay = 12345678 # 12345678원 \n",
    "\n",
    "#Todo: 100미만 절사 처리해주세요요 \n",
    "\n",
    "mid = pay%100\n",
    "ans = pay - mid\n",
    "\n",
    "print(ans)"
   ]
  },
  {
   "cell_type": "code",
   "execution_count": 64,
   "metadata": {},
   "outputs": [
    {
     "name": "stdout",
     "output_type": "stream",
     "text": [
      "8\n"
     ]
    }
   ],
   "source": [
    "# 업그레이드미션 2  \n",
    "# Todo: 변수 a에 저장된 값의 b자리 값을 계산하여 변수 c에 저장하는 코드를 설계하라  \n",
    "#예를 들어 a에 1234가 저장되어 있고 b가 1일 경우 첫 번째 자리값인 4가 c에 저장된다.  \n",
    "#a가 1234일때 b가 4일 경우는 4번째 자리값인 1이 c에 저장되어야 한다.  \n",
    "\n",
    "a = 3789\n",
    "b = 2\n",
    "\n",
    "mid = (a% 10**b) // 10 ** (b-1)\n",
    "print(mid)"
   ]
  },
  {
   "cell_type": "code",
   "execution_count": 63,
   "metadata": {},
   "outputs": [
    {
     "name": "stdout",
     "output_type": "stream",
     "text": [
      "5\n"
     ]
    }
   ],
   "source": [
    "a= 3456\n",
    "b = 2\n",
    "num = (a% 10**b) // 10 ** (b-1)\n",
    "print(num)"
   ]
  },
  {
   "cell_type": "code",
   "execution_count": 66,
   "metadata": {},
   "outputs": [
    {
     "name": "stdout",
     "output_type": "stream",
     "text": [
      "True\n",
      "True\n",
      "False\n"
     ]
    }
   ],
   "source": [
    "print( (3 < 5) and (3 > 0))\n",
    "print( (4 < 7) or (5 > 8))\n",
    "print( not(5 < 9))"
   ]
  },
  {
   "cell_type": "code",
   "execution_count": 67,
   "metadata": {},
   "outputs": [
    {
     "name": "stdout",
     "output_type": "stream",
     "text": [
      "'낮말'은 새가 듣고 '밤말'은 쥐가 듣는다.\n"
     ]
    }
   ],
   "source": [
    "print(\"\\'낮말\\'은 새가 듣고 \\'밤말\\'은 쥐가 듣는다.\")"
   ]
  },
  {
   "cell_type": "code",
   "execution_count": 68,
   "metadata": {},
   "outputs": [
    {
     "name": "stdout",
     "output_type": "stream",
     "text": [
      "see\n"
     ]
    }
   ],
   "source": [
    "st = \"Life is too short, you need Python\"\n",
    "print(st[6]+st[24:26])"
   ]
  },
  {
   "cell_type": "code",
   "execution_count": 69,
   "metadata": {},
   "outputs": [
    {
     "name": "stdout",
     "output_type": "stream",
     "text": [
      "30\n"
     ]
    }
   ],
   "source": [
    "a, b = map(int, input().split())\n",
    "print(a+b)"
   ]
  },
  {
   "cell_type": "code",
   "execution_count": 70,
   "metadata": {},
   "outputs": [
    {
     "name": "stdout",
     "output_type": "stream",
     "text": [
      "18.375\n"
     ]
    }
   ],
   "source": [
    "# 업그레이드미션 1 \n",
    "# 삼각형의 넓이 구하기 \n",
    "# 사용자에게 삼각형의 밑변과 높이를 입력 받아  \n",
    "# 삼각형의 넓이를 출력하는 코드를 작성하세요.\n",
    "\n",
    "a, b = map(float, input().split())\n",
    "print(a*b*0.5)"
   ]
  },
  {
   "cell_type": "code",
   "execution_count": 72,
   "metadata": {},
   "outputs": [
    {
     "name": "stdout",
     "output_type": "stream",
     "text": [
      "김밥주문갯수: 2\n",
      "떡볶이주문갯수: 1\n",
      "라면주문갯수: 2\n",
      "지불하실 금액은 14500원입니다.\n"
     ]
    }
   ],
   "source": [
    "# 업그레이드미션 2 \n",
    "# 분식줍 주문 프로그램 \n",
    "# 메뉴판은 아래와 같다. \n",
    "# 메뉴별 주문 개수를 입력 받아 지불할 금액을 자동으로 계산해주는 프로그램을 작성하시오. \n",
    "\n",
    "# [메뉴판] \n",
    "# 김   밥  : 3,000원 \n",
    "# 떡볶이 : 3,500원 \n",
    "# 라    면 : 2,500원\n",
    "\n",
    "a = int(input(\"김밥주문갯수: \"))\n",
    "b = int(input(\"떡볶이주문갯수: \"))\n",
    "c = int(input(\"라면주문갯수: \"))\n",
    "print(f\"김밥주문갯수: {a}\")\n",
    "print(f\"떡볶이주문갯수: {b}\")\n",
    "print(f\"라면주문갯수: {c}\")\n",
    "print(f\"지불하실 금액은 {a*3000 + b*3500 + c*2500}원입니다.\")"
   ]
  },
  {
   "cell_type": "code",
   "execution_count": 73,
   "metadata": {},
   "outputs": [
    {
     "name": "stdout",
     "output_type": "stream",
     "text": [
      "1000.12 * 2000.457 = 2,000,703.65\n"
     ]
    }
   ],
   "source": [
    "a = float(input(\"첫번째 값: \"))\n",
    "b = float(input(\"첫번째 값: \"))\n",
    "\n",
    "print(f'{a:.2f} * {b:.3f} = {a*b:,.2f}')"
   ]
  },
  {
   "cell_type": "code",
   "execution_count": 76,
   "metadata": {},
   "outputs": [
    {
     "name": "stdout",
     "output_type": "stream",
     "text": [
      "\n",
      "반지름 :  150.7cm\n",
      "원의 둘레 :  946.4cm\n",
      "원의 넓이 :  71,309.0㎠\n"
     ]
    }
   ],
   "source": [
    "# 반지름을 입력받아, 원의 둘레와 넓이 계산해보세요\n",
    "r = float(input(\"반지름 입력(cm): \"))\n",
    "\n",
    "print(f\"\\n반지름 : {r: .1f}cm\")\n",
    "print(f\"원의 둘레 : {r*2*3.14: .1f}cm\")\n",
    "print(f\"원의 넓이 : {r*r*3.14: ,.1f}㎠\")"
   ]
  },
  {
   "cell_type": "code",
   "execution_count": 79,
   "metadata": {},
   "outputs": [
    {
     "name": "stdout",
     "output_type": "stream",
     "text": [
      "홀수입니다.\n"
     ]
    }
   ],
   "source": [
    "num = int(input(\"숫자를 입력하세요: \"))\n",
    "\n",
    "if num % 2 == 1:\n",
    "    print(\"홀수입니다.\")\n",
    "else:\n",
    "    print(\"짝수입니다.\")"
   ]
  },
  {
   "cell_type": "code",
   "execution_count": 80,
   "metadata": {},
   "outputs": [
    {
     "name": "stdout",
     "output_type": "stream",
     "text": [
      "D\n"
     ]
    }
   ],
   "source": [
    "score = int(input(\"점수 : \"))\n",
    "\n",
    "if score >= 90:\n",
    "    print(\"A\")\n",
    "elif 80 <= score < 90:\n",
    "    print(\"B\")\n",
    "elif 70 <= score < 80:\n",
    "    print(\"C\")\n",
    "elif 60 <= score < 70:\n",
    "    print(\"D\")\n",
    "else: print(\"F\")"
   ]
  },
  {
   "cell_type": "code",
   "execution_count": 91,
   "metadata": {},
   "outputs": [
    {
     "name": "stdout",
     "output_type": "stream",
     "text": [
      "금요일에만 구매가능합니다.\n"
     ]
    }
   ],
   "source": [
    "# 출생 연도 끝자리와 나이를 입력하여 마스크 구매 가능한 요일을 출력하세요.\n",
    "# y, age = map(int, input().split())\n",
    "y = int(input(\"출생연도 끝자리를 입력해주세요 : \"))\n",
    "age = int(input(\"나이를 입력해주세요 : \"))\n",
    "dic = {1:'월', 6:'월', 2:'화', 7:'화', 3:'수', 8:'수', 4:'목', 9:'목',\n",
    " 5:'금', 0:'금'}\n",
    "ans = ''\n",
    "\n",
    "if age >= 65:\n",
    "    print(\"언제든지 구매 가능합니다.\")\n",
    "else:\n",
    "    ans = dic.get(y)\n",
    "    print(f\"{ans}요일에만 구매가능합니다.\")"
   ]
  },
  {
   "cell_type": "code",
   "execution_count": 92,
   "metadata": {},
   "outputs": [
    {
     "name": "stdout",
     "output_type": "stream",
     "text": [
      "짝수 차량 운행날입니다.\n",
      "운행가능합니다.\n"
     ]
    }
   ],
   "source": [
    "day = int(input(\"오늘은 몇일?(입력:1~31) : \"))\n",
    "num = int(input(\"차량번호를 입력해주세요(예: 1234): \"))\n",
    "\n",
    "if 1 > day or day > 31:\n",
    "    print(\"일(day) 입력 오류입니다.\")\n",
    "elif len(str(num)) != 4:\n",
    "    print(\"차량번호 입력 오류입니다.\")\n",
    "else:\n",
    "    if day % 2 == 1 and num % 2 == 1: #홀수\n",
    "        print(\"홀수 차량 운행날입니다.\\n운행가능합니다.\")\n",
    "    elif day % 2 == 0 and num % 2 == 0:\n",
    "        print(\"짝수 차량 운행날입니다.\\n운행가능합니다.\")\n",
    "    else:\n",
    "        print(\"운행불가합니다.\")\n"
   ]
  },
  {
   "cell_type": "code",
   "execution_count": 90,
   "metadata": {},
   "outputs": [
    {
     "name": "stdout",
     "output_type": "stream",
     "text": [
      "BMI 지수는 \"21.91\"로 정상체중입니다.\n"
     ]
    }
   ],
   "source": [
    "h, w = map(int, input().split())\n",
    "\n",
    "bmi = w / (h*h) * 10000\n",
    "\n",
    "if bmi >= 25:\n",
    "    print(f\"BMI 지수는 \\\"{bmi:.2f}\\\"로 비만입니다.\")\n",
    "elif 23 <= bmi < 25:\n",
    "    print(f\"BMI 지수는 \\\"{bmi:.2f}\\\"로 과체중입니다.\")\n",
    "elif 18.5 <= bmi < 23:\n",
    "    print(f\"BMI 지수는 \\\"{bmi:.2f}\\\"로 정상체중입니다.\")\n",
    "elif 18.5 > bmi:\n",
    "    print(f\"BMI 지수는 \\\"{bmi:.2f}\\\"로 저체중입니다.\")\n"
   ]
  }
 ],
 "metadata": {
  "kernelspec": {
   "display_name": "Python 3",
   "language": "python",
   "name": "python3"
  },
  "language_info": {
   "codemirror_mode": {
    "name": "ipython",
    "version": 3
   },
   "file_extension": ".py",
   "mimetype": "text/x-python",
   "name": "python",
   "nbconvert_exporter": "python",
   "pygments_lexer": "ipython3",
   "version": "3.13.1"
  }
 },
 "nbformat": 4,
 "nbformat_minor": 2
}

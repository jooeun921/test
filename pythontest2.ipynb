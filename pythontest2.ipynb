{
 "cells": [
  {
   "cell_type": "markdown",
   "metadata": {},
   "source": [
    "#### 2024-12-20"
   ]
  },
  {
   "cell_type": "markdown",
   "metadata": {},
   "source": [
    "## 파이썬 기본문법2"
   ]
  },
  {
   "cell_type": "code",
   "execution_count": null,
   "metadata": {},
   "outputs": [],
   "source": [
    "name = input(\"이름을 입력하세요: \")\n",
    "t = int(input(\"방문 횟수를 입력하세요: \"))\n",
    "\n",
    "print(f\"{name} 님 안녕하세요?\")\n",
    "print(f\"오늘로 {t+1}회 방문하셨어요.\")"
   ]
  },
  {
   "cell_type": "code",
   "execution_count": null,
   "metadata": {},
   "outputs": [],
   "source": [
    "num = input(\"주민등록번호를 입력해주세요 : \")\n",
    "g = int(num[7])\n",
    "if g % 2 == 1:\n",
    "    str = '남자'\n",
    "else:\n",
    "    str = '여자'\n",
    "#성별7 출생연도01 월23 일45 생년월일0-5 뒷자리7-\n",
    "print(f\"성별:{str}, 출생연도:{num[0:2]}, 월:{num[2:4]}, 일:{num[4:6]}, 생년월일:{num[0:6]}, 뒷자리:{num[7:]}\")"
   ]
  },
  {
   "cell_type": "code",
   "execution_count": null,
   "metadata": {},
   "outputs": [],
   "source": [
    "string = \" 이번역은 역삼역, 역삼역입니다. 앞으로 읽어도 역삼역 거꾸로 읽어도 역삼역\"\n",
    "\n",
    "print(string[::-1])"
   ]
  },
  {
   "cell_type": "code",
   "execution_count": null,
   "metadata": {},
   "outputs": [],
   "source": [
    "user_id = 'admin'\n",
    "user_pw = '1234'\n",
    "\n",
    "id = input(\"아이디를 입력해주세요 : \")\n",
    "pw = input(\"비밀번호를 입력해주세요 : \")\n",
    "\n",
    "if id == user_id and pw == user_pw:\n",
    "    print(\"로그인되었습니다.\")\n",
    "elif user_id != id:\n",
    "    print(\"아이디가 잘못되었습니다.\")\n",
    "elif user_pw != pw:\n",
    "    print(\"비밀번호가 잘못되었습니다.\")"
   ]
  },
  {
   "cell_type": "code",
   "execution_count": null,
   "metadata": {},
   "outputs": [],
   "source": [
    "i = 0\n",
    "while i < 20:\n",
    "    i = i + 1\n",
    "    print(i, end=' ')\n",
    "print(\"반복문 종료\")"
   ]
  },
  {
   "cell_type": "code",
   "execution_count": null,
   "metadata": {},
   "outputs": [],
   "source": [
    "v = int(input(\"합을 원하는 정수값 입력: \"))\n",
    "i = 1\n",
    "sum = 0\n",
    "while i < v+1:\n",
    "    sum += i\n",
    "    i = i + 1\n",
    "\n",
    "print(f\"1부터 {v}까지의 합은 {sum:,}입니다.\")"
   ]
  },
  {
   "cell_type": "code",
   "execution_count": null,
   "metadata": {},
   "outputs": [],
   "source": [
    "v = int(input(\"곱을 원하는 정수값 입력: \"))\n",
    "i = 1\n",
    "sum = 1\n",
    "while i < v+1:\n",
    "    sum *= i\n",
    "    i = i + 1\n",
    "\n",
    "print(f\"1부터 {v}까지의 곱은 {sum:,}입니다.\")"
   ]
  },
  {
   "cell_type": "code",
   "execution_count": null,
   "metadata": {},
   "outputs": [],
   "source": [
    "v = int(input(\"곱을 원하는 정수값 입력: \"))\n",
    "i = 1\n",
    "sum = 0\n",
    "while i < v+1:\n",
    "    if i % 2 == 0:\n",
    "        sum += i\n",
    "    i = i + 1\n",
    "\n",
    "print(f\"1부터 {v}까지의 짝수 합은 {sum:,}입니다.\")"
   ]
  },
  {
   "cell_type": "code",
   "execution_count": null,
   "metadata": {},
   "outputs": [],
   "source": []
  },
  {
   "cell_type": "code",
   "execution_count": null,
   "metadata": {},
   "outputs": [],
   "source": [
    "for i in range(10, 0, -1):\n",
    "    print(i)"
   ]
  },
  {
   "cell_type": "code",
   "execution_count": null,
   "metadata": {},
   "outputs": [],
   "source": [
    "v = int(input(\"합을 원하는 정수값 입력:\"))\n",
    "sum = 0\n",
    "for i in range(1, v+1):\n",
    "    sum += i\n",
    "\n",
    "print(f\"1부터 {v}까지의 합은 {sum}입니다.\")"
   ]
  },
  {
   "cell_type": "code",
   "execution_count": null,
   "metadata": {},
   "outputs": [],
   "source": [
    "dan = int(input(\"출력한 단 입력: \"))\n",
    "\n",
    "print(f\"*** {dan}단 ***\")\n",
    "for i in range(1, 10):\n",
    "    print(f\"{dan} * {i} = {dan*i}\")"
   ]
  },
  {
   "cell_type": "code",
   "execution_count": null,
   "metadata": {},
   "outputs": [],
   "source": [
    "dan = int(input(\"출력한 단 입력: \"))\n",
    "\n",
    "print(f\"*** {dan}단 ***\")\n",
    "\n",
    "i = 1\n",
    "while i < 10:\n",
    "    print(f\"{dan} * {i} = {dan*i}\")\n",
    "    i += 1"
   ]
  },
  {
   "cell_type": "code",
   "execution_count": null,
   "metadata": {},
   "outputs": [],
   "source": [
    "for j in range(1, 10):\n",
    "    for i in range(2, 10):\n",
    "        print(f\"{i}*{j}={i*j:<2}\", end=' ')\n",
    "    print()"
   ]
  },
  {
   "cell_type": "code",
   "execution_count": null,
   "metadata": {},
   "outputs": [],
   "source": [
    "h = 0\n",
    "for i in range(1, 11):\n",
    "    h += i\n",
    "    if h >= 20:\n",
    "        print(f\"정수:{i} 합:{h}\")\n",
    "        break"
   ]
  },
  {
   "cell_type": "code",
   "execution_count": null,
   "metadata": {},
   "outputs": [],
   "source": [
    "h = 0\n",
    "for i in range(1, 11):\n",
    "    if i % 2 == 0:\n",
    "        continue\n",
    "    print(i, end=\" \")\n",
    "    h += i\n",
    "\n",
    "print(f\"\\n1~10까지의 정수 중 홀수 합 : {h}\")"
   ]
  },
  {
   "cell_type": "code",
   "execution_count": null,
   "metadata": {},
   "outputs": [],
   "source": [
    "import random\n",
    "\n",
    "ans = random.randint(1, 100)\n",
    "cnt = 1\n",
    "\n",
    "v = int(input(\"값을 넣어주세요: \"))\n",
    "while True:\n",
    "    if v > ans:\n",
    "        v = int(input(\"값이 너무 커요. 다시 값을 넣어주세요 : \"))\n",
    "        cnt += 1\n",
    "    elif v < ans:\n",
    "        v = int(input(\"값이 너무 작아요. 다시 값을 넣어주세요 : \"))\n",
    "        cnt += 1\n",
    "    elif v == ans:\n",
    "        print(f\"정답입니다. 총 {cnt}번 만에 정답을 맞추셨어요!\")\n",
    "        break\n",
    "    if cnt == 10:\n",
    "        print(\"10번 안에 정답을 맞추는 걸 실패하셨습니다.\")\n",
    "        break\n"
   ]
  },
  {
   "cell_type": "code",
   "execution_count": null,
   "metadata": {},
   "outputs": [],
   "source": [
    "x = 0\n",
    "\n",
    "while True:\n",
    "    if x > 20:\n",
    "        break\n",
    "    x += 1\n",
    "    if x % 3 == 0 or x % 5 == 0:\n",
    "        continue\n",
    "    print(f\"{x}\", end=' ')\n"
   ]
  },
  {
   "cell_type": "code",
   "execution_count": null,
   "metadata": {},
   "outputs": [],
   "source": [
    "#크리스마스 트리 만들기\n",
    "\n",
    "for i in range(1, 20, 2):\n",
    "    print(\"*\"*i)"
   ]
  },
  {
   "cell_type": "code",
   "execution_count": null,
   "metadata": {},
   "outputs": [],
   "source": [
    "for i in range(19, 0, -2):\n",
    "    print(\"*\"*i)"
   ]
  },
  {
   "cell_type": "code",
   "execution_count": null,
   "metadata": {},
   "outputs": [],
   "source": [
    "for i in range(10):\n",
    "    print(\"  \"*(10-i)+\"*\"*i)"
   ]
  },
  {
   "cell_type": "code",
   "execution_count": null,
   "metadata": {},
   "outputs": [],
   "source": [
    "# for i in range(1, 20, 2):\n",
    "#     print(\" \"*(20-i), end='')\n",
    "#     print(\"*\"*i)\n",
    "\n",
    "for i in range(1, 20, 2):\n",
    "    for j in range(20):\n",
    "        if j < (20 - i):  # 공백 출력\n",
    "            print(\" \", end=\"\")\n",
    "        else:  # 별 출력\n",
    "            print(\"*\", end=\"\")\n",
    "    print()  # 줄바꿈\n"
   ]
  },
  {
   "cell_type": "code",
   "execution_count": 38,
   "metadata": {},
   "outputs": [],
   "source": [
    "b = ['Life', 'is', 'too', 'short']"
   ]
  },
  {
   "cell_type": "code",
   "execution_count": null,
   "metadata": {},
   "outputs": [],
   "source": [
    "b[:3]"
   ]
  },
  {
   "cell_type": "code",
   "execution_count": null,
   "metadata": {},
   "outputs": [],
   "source": [
    "b[1:2]"
   ]
  },
  {
   "cell_type": "code",
   "execution_count": 41,
   "metadata": {},
   "outputs": [],
   "source": [
    "d = [1, 'hello', [2, 'hi']]"
   ]
  },
  {
   "cell_type": "code",
   "execution_count": null,
   "metadata": {},
   "outputs": [],
   "source": [
    "d[2][1]"
   ]
  },
  {
   "cell_type": "code",
   "execution_count": 43,
   "metadata": {},
   "outputs": [],
   "source": [
    "a = [1, 2, 3, ['a', 'b', 'c'], 4, 5]"
   ]
  },
  {
   "cell_type": "code",
   "execution_count": null,
   "metadata": {},
   "outputs": [],
   "source": [
    "a[3][0:2]"
   ]
  },
  {
   "cell_type": "code",
   "execution_count": null,
   "metadata": {},
   "outputs": [],
   "source": [
    "marks = [90, 25, 67, 45, 80]\n",
    "for i in range(len(marks)):\n",
    "    if marks[i] >= 60:\n",
    "        print(f\"{i+1}번 학생은 합격입니다.\")\n",
    "    else:\n",
    "        print(f\"{i+1}번 학생은 불합격입니다.\")"
   ]
  },
  {
   "cell_type": "code",
   "execution_count": null,
   "metadata": {},
   "outputs": [],
   "source": [
    "print(\"끝말잇기 게임\")\n",
    "print(\"시작\")\n",
    "var = \"가나다\"\n",
    "\n",
    "print(var)\n",
    "while True:\n",
    "    str = input(\"단어를 입력해주세요 : \")\n",
    "    if var[-1] == str[0]:\n",
    "        print(f\"단어를 입력해주세요 : {str}\")\n",
    "        var = str\n",
    "        continue\n",
    "    else:\n",
    "        print(f\"단어를 입력해주세요 : {str}\")\n",
    "        print(\"땡\")\n",
    "        break"
   ]
  },
  {
   "cell_type": "code",
   "execution_count": 3,
   "metadata": {},
   "outputs": [
    {
     "name": "stdout",
     "output_type": "stream",
     "text": [
      "과일 가게에 오신 것을 환영합니다!\n",
      "오늘 판매하는 과일: ['사과', '바나나', '오렌지', '포도', '수박']\n",
      "현재 재고: [1, 1, 1, 1, 1]\n",
      "사과을(를) 구매하셨습니다! 남은 사과의 재고: 0\n",
      "현재 재고: [0, 1, 1, 1, 1]\n",
      "바나나을(를) 구매하셨습니다! 남은 바나나의 재고: 0\n",
      "현재 재고: [0, 0, 1, 1, 1]\n",
      "오렌지을(를) 구매하셨습니다! 남은 오렌지의 재고: 0\n",
      "현재 재고: [0, 0, 0, 1, 1]\n",
      "포도을(를) 구매하셨습니다! 남은 포도의 재고: 0\n",
      "현재 재고: [0, 0, 0, 0, 1]\n",
      "수박을(를) 구매하셨습니다! 남은 수박의 재고: 0\n",
      "모든 과일이 다 팔렸습니다. 가게를 종료합니다.\n"
     ]
    }
   ],
   "source": [
    "f = ['사과', '바나나', '오렌지', '포도', '수박'] \n",
    "c = [1, 1, 1, 1, 1] \n",
    "print(\"과일 가게에 오신 것을 환영합니다!\")\n",
    "print(f\"오늘 판매하는 과일: {f}\")\n",
    "\n",
    "while True:\n",
    "    print(f\"현재 재고: {c}\")\n",
    "    buy = input(\"어떤 과일을 구매하시겠습니까? (종료하려면 '그만'을 입력하세요): \")\n",
    "    if buy == '그만':\n",
    "        break\n",
    "    for i in range(5):\n",
    "        if buy == f[i]:\n",
    "            c[i] -= 1\n",
    "            if c[i] < 0:\n",
    "                print(\"재고가 소진되었습니다. 다른 과일을 선택해주세요.\")\n",
    "                c[i] = 0\n",
    "                continue\n",
    "            print(f\"{f[i]}을(를) 구매하셨습니다! 남은 {f[i]}의 재고: {c[i]}\")\n",
    "            break\n",
    "    if all(x == 0 for x in c):\n",
    "        print(\"모든 과일이 다 팔렸습니다. 가게를 종료합니다.\")\n",
    "        break"
   ]
  }
 ],
 "metadata": {
  "kernelspec": {
   "display_name": "Python 3",
   "language": "python",
   "name": "python3"
  },
  "language_info": {
   "codemirror_mode": {
    "name": "ipython",
    "version": 3
   },
   "file_extension": ".py",
   "mimetype": "text/x-python",
   "name": "python",
   "nbconvert_exporter": "python",
   "pygments_lexer": "ipython3",
   "version": "3.12.2"
  }
 },
 "nbformat": 4,
 "nbformat_minor": 2
}

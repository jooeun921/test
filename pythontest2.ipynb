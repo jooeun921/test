{
 "cells": [
  {
   "cell_type": "markdown",
   "metadata": {},
   "source": [
    "#### 2024-12-20"
   ]
  },
  {
   "cell_type": "markdown",
   "metadata": {},
   "source": [
    "## 파이썬 기본문법2"
   ]
  },
  {
   "cell_type": "code",
   "execution_count": 1,
   "metadata": {},
   "outputs": [
    {
     "name": "stdout",
     "output_type": "stream",
     "text": [
      "해리 님 안녕하세요?\n",
      "오늘로 11회 방문하셨어요.\n"
     ]
    }
   ],
   "source": [
    "name = input(\"이름을 입력하세요: \")\n",
    "t = int(input(\"방문 횟수를 입력하세요: \"))\n",
    "\n",
    "print(f\"{name} 님 안녕하세요?\")\n",
    "print(f\"오늘로 {t+1}회 방문하셨어요.\")"
   ]
  },
  {
   "cell_type": "code",
   "execution_count": 5,
   "metadata": {},
   "outputs": [
    {
     "name": "stdout",
     "output_type": "stream",
     "text": [
      "성별:여자, 출생연도:02, 월:09, 일:21, 생년월일:020921, 뒷자리:4567891\n"
     ]
    }
   ],
   "source": [
    "num = input(\"주민등록번호를 입력해주세요 : \")\n",
    "g = int(num[7])\n",
    "if g % 2 == 1:\n",
    "    str = '남자'\n",
    "else:\n",
    "    str = '여자'\n",
    "#성별7 출생연도01 월23 일45 생년월일0-5 뒷자리7-\n",
    "print(f\"성별:{str}, 출생연도:{num[0:2]}, 월:{num[2:4]}, 일:{num[4:6]}, 생년월일:{num[0:6]}, 뒷자리:{num[7:]}\")"
   ]
  },
  {
   "cell_type": "code",
   "execution_count": 6,
   "metadata": {},
   "outputs": [
    {
     "name": "stdout",
     "output_type": "stream",
     "text": [
      "역삼역 도어읽 로꾸거 역삼역 도어읽 로으앞 .다니입역삼역 ,역삼역 은역번이 \n"
     ]
    }
   ],
   "source": [
    "string = \" 이번역은 역삼역, 역삼역입니다. 앞으로 읽어도 역삼역 거꾸로 읽어도 역삼역\"\n",
    "\n",
    "print(string[::-1])"
   ]
  }
 ],
 "metadata": {
  "kernelspec": {
   "display_name": "Python 3",
   "language": "python",
   "name": "python3"
  },
  "language_info": {
   "codemirror_mode": {
    "name": "ipython",
    "version": 3
   },
   "file_extension": ".py",
   "mimetype": "text/x-python",
   "name": "python",
   "nbconvert_exporter": "python",
   "pygments_lexer": "ipython3",
   "version": "3.13.1"
  }
 },
 "nbformat": 4,
 "nbformat_minor": 2
}

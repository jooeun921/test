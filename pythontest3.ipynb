{
 "cells": [
  {
   "cell_type": "markdown",
   "metadata": {},
   "source": [
    "#### 2024-12-23"
   ]
  },
  {
   "cell_type": "code",
   "execution_count": 5,
   "metadata": {},
   "outputs": [
    {
     "name": "stdout",
     "output_type": "stream",
     "text": [
      "2 4 6 8 10 12 14 16 18 \n",
      "3 6 9 12 15 18 21 24 27 \n",
      "4 8 12 16 20 24 28 32 36 \n",
      "5 10 15 20 25 30 35 40 45 \n",
      "6 12 18 24 30 36 42 48 54 \n",
      "7 14 21 28 35 42 49 56 63 \n",
      "8 16 24 32 40 48 56 64 72 \n",
      "9 18 27 36 45 54 63 72 81 \n"
     ]
    }
   ],
   "source": [
    "for i in range(2, 10):\n",
    "    for j in range(1, 10):\n",
    "        print(f\"{i*j}\", end = ' ')\n",
    "    print()"
   ]
  },
  {
   "cell_type": "code",
   "execution_count": null,
   "metadata": {},
   "outputs": [
    {
     "name": "stdout",
     "output_type": "stream",
     "text": [
      "커피 자판기입니다. 커피 한잔에 300원.\n",
      "돈이 부족합니다. 다시 돈을 넣어주세요 현재 남은 커피 10개\n",
      "돈이 부족합니다. 다시 돈을 넣어주세요 현재 남은 커피 10개\n",
      "커피를 구매하셨습니다. 거스름돈 : 0원 남은 커피: 9개\n",
      "커피를 구매하셨습니다. 거스름돈 : 700원 남은 커피: 8개\n",
      "커피를 구매하셨습니다. 거스름돈 : 700원 남은 커피: 7개\n",
      "커피를 구매하셨습니다. 거스름돈 : 700원 남은 커피: 6개\n",
      "커피를 구매하셨습니다. 거스름돈 : 700원 남은 커피: 5개\n"
     ]
    },
    {
     "ename": "ValueError",
     "evalue": "invalid literal for int() with base 10: ''",
     "output_type": "error",
     "traceback": [
      "\u001b[1;31m---------------------------------------------------------------------------\u001b[0m",
      "\u001b[1;31mValueError\u001b[0m                                Traceback (most recent call last)",
      "Cell \u001b[1;32mIn[9], line 5\u001b[0m\n\u001b[0;32m      2\u001b[0m c \u001b[38;5;241m=\u001b[39m \u001b[38;5;241m10\u001b[39m\n\u001b[0;32m      4\u001b[0m \u001b[38;5;28;01mwhile\u001b[39;00m \u001b[38;5;28;01mTrue\u001b[39;00m:\n\u001b[1;32m----> 5\u001b[0m     a \u001b[38;5;241m=\u001b[39m \u001b[38;5;28;43mint\u001b[39;49m\u001b[43m(\u001b[49m\u001b[38;5;28;43minput\u001b[39;49m\u001b[43m(\u001b[49m\u001b[38;5;124;43m\"\u001b[39;49m\u001b[38;5;124;43m돈을 넣어주세요 : \u001b[39;49m\u001b[38;5;124;43m\"\u001b[39;49m\u001b[43m)\u001b[49m\u001b[43m)\u001b[49m\n\u001b[0;32m      6\u001b[0m     \u001b[38;5;28;01mif\u001b[39;00m a \u001b[38;5;241m>\u001b[39m\u001b[38;5;241m=\u001b[39m \u001b[38;5;241m300\u001b[39m:\n\u001b[0;32m      7\u001b[0m         c \u001b[38;5;241m-\u001b[39m\u001b[38;5;241m=\u001b[39m \u001b[38;5;241m1\u001b[39m\n",
      "\u001b[1;31mValueError\u001b[0m: invalid literal for int() with base 10: ''"
     ]
    }
   ],
   "source": [
    "print(\"커피 자판기입니다. 커피 한잔에 300원.\")\n",
    "c = 10\n",
    "\n",
    "while True:\n",
    "    a = int(input(\"돈을 넣어주세요 : \"))\n",
    "    if a >= 300:\n",
    "        c -= 1\n",
    "        a -= 300\n",
    "        print(f\"커피를 구매하셨습니다. 거스름돈 : {a}원 남은 커피: {c}개\")\n",
    "    elif (c == 0):\n",
    "        print(\"커피가 다 떨어졌습니다. 영업을 종료합니다.\")\n",
    "        break\n",
    "    elif a < 300:\n",
    "        print(f\"돈이 부족합니다. 다시 돈을 넣어주세요. 현재 남은 커피 {c}개\")\n",
    "        continue"
   ]
  },
  {
   "cell_type": "code",
   "execution_count": 19,
   "metadata": {},
   "outputs": [
    {
     "name": "stdout",
     "output_type": "stream",
     "text": [
      "**********************************\n",
      "1. 가나다\n",
      "**********************************\n",
      "**********************************\n",
      "1. 가나다\n",
      "2. 김밥\n",
      "**********************************\n",
      "**********************************\n",
      "1. 가나다\n",
      "2. 김밥\n",
      "3. 가\n",
      "**********************************\n",
      "**********************************\n",
      "1. 가나다\n",
      "2. 가\n",
      "**********************************\n",
      "**********************************\n",
      "1. 가\n",
      "**********************************\n",
      "메뉴선택 오류입니다. 다시 선택하세요.\n",
      "프로그램을 종료합니다.\n"
     ]
    }
   ],
   "source": [
    "li = []\n",
    "num = 0\n",
    "\n",
    "while True:\n",
    "    t = int(input(\"메뉴 선택(1:추가, 2:삭제, 0:종료)? \"))\n",
    "    if t == 1:\n",
    "        w = input(\"* 할일 내용 입력 >>\")\n",
    "        li.append(w)\n",
    "    elif t == 2:\n",
    "        d = input(\"* 완료한 내용 입력 >>\")\n",
    "        li.remove(d)\n",
    "    elif t == 0:\n",
    "        print(\"프로그램을 종료합니다.\")\n",
    "        break\n",
    "    else:\n",
    "        print(\"메뉴선택 오류입니다. 다시 선택하세요.\")\n",
    "        continue\n",
    "\n",
    "    print(\"**********************************\")\n",
    "    for i in range(len(li)):\n",
    "        print(f\"{i+1}. {li[i]}\")\n",
    "    print(\"**********************************\")\n"
   ]
  },
  {
   "cell_type": "code",
   "execution_count": null,
   "metadata": {},
   "outputs": [
    {
     "name": "stdout",
     "output_type": "stream",
     "text": [
      "검색가능한 친구들: ['홍길동', '김가나', '김길동', '최재원', '유재석']\n",
      "유재석의 연락처 : 010-2222-3456\n",
      "메뉴선택 오류입니다. 다시 선택하세요.\n",
      "프로그램을 종료합니다.\n"
     ]
    }
   ],
   "source": [
    "# num =  {}\n",
    "\n",
    "while True:\n",
    "    t = int(input(\"메뉴 선택(1:추가, 2:검색, 0:종료)? \"))\n",
    "    if t == 1:\n",
    "        name = input(\"* 친구 이름 입력 >>\")\n",
    "        n = input(\"* 전화번호 입력 >>\")\n",
    "        num[name] = n\n",
    "    elif t == 2:\n",
    "        print(f\"검색가능한 친구들: {list(num.keys())}\")\n",
    "        r = input(\"* 친구 이름 입력 >>\")\n",
    "        contact = num.get(r)\n",
    "        if contact:\n",
    "            print(f\"{r}의 연락처 : {contact}\")\n",
    "        else:\n",
    "            print(f\"{r}는 목록에 없습니다.\")\n",
    "    elif t == 0:\n",
    "        print(\"프로그램을 종료합니다.\")\n",
    "        break\n",
    "    else:\n",
    "        print(\"메뉴선택 오류입니다. 다시 선택하세요.\")"
   ]
  },
  {
   "cell_type": "code",
   "execution_count": 40,
   "metadata": {},
   "outputs": [
    {
     "name": "stdout",
     "output_type": "stream",
     "text": [
      "A의 평균: 89.0\n",
      "B의 평균: 82.0\n",
      "C의 평균: 92.0\n",
      "\n",
      "전체 평균: 87.66666666666667\n",
      "\n",
      "90점 이상인 학생 명단: ['A', 'C']\n"
     ]
    }
   ],
   "source": [
    "st = {'A': [90, 85, 92], 'B': [78, 80, 88], 'C': [95, 92, 89]}\n",
    "\n",
    "t_sum = 0\n",
    "t_count = 0\n",
    "\n",
    "for key, sc in st.items():\n",
    "    avg = sum(sc) / len(sc)\n",
    "    t_sum += sum(sc)\n",
    "    t_count += len(sc)\n",
    "    print(f\"{key}의 평균: {avg}\")\n",
    "\n",
    "ans = t_sum / t_count\n",
    "print(f\"\\n전체 평균: {ans}\")\n",
    "\n",
    "gs = [key for key, sc in st.items() if any(sc >= 90 for sc in sc)]\n",
    "if gs:\n",
    "    print(f\"\\n90점 이상인 학생 명단: {gs}\")\n",
    "else:\n",
    "    print(\"\\n90점 이상인 학생이 없습니다.\")\n"
   ]
  },
  {
   "cell_type": "code",
   "execution_count": 44,
   "metadata": {},
   "outputs": [
    {
     "data": {
      "text/plain": [
       "12"
      ]
     },
     "execution_count": 44,
     "metadata": {},
     "output_type": "execute_result"
    }
   ],
   "source": [
    "def num_max(a, b, c):\n",
    "    if a > b and a > c:\n",
    "        ans = a\n",
    "    elif b > a and b > c:\n",
    "        ans = b\n",
    "    elif c > a and c > b:\n",
    "        ans = c\n",
    "    return ans\n",
    "\n",
    "num = num_max(10, 12, 7)\n",
    "num"
   ]
  },
  {
   "cell_type": "code",
   "execution_count": 48,
   "metadata": {},
   "outputs": [
    {
     "name": "stdout",
     "output_type": "stream",
     "text": [
      "False\n",
      "False\n",
      "True\n",
      "False\n",
      "True\n"
     ]
    }
   ],
   "source": [
    "def year(a):\n",
    "    if a%4 == 0 and a%100 != 0 or a%400==0:\n",
    "        ans = True\n",
    "    else:\n",
    "        ans = False\n",
    "    return ans\n",
    "    \n",
    "print(year(2022))\n",
    "print(year(2010))\n",
    "print(year(2000))\n",
    "print(year(1900))\n",
    "print(year(2024))"
   ]
  },
  {
   "cell_type": "code",
   "execution_count": 50,
   "metadata": {},
   "outputs": [
    {
     "name": "stdout",
     "output_type": "stream",
     "text": [
      "(13, 7, 30, 3)\n"
     ]
    }
   ],
   "source": [
    "def cal(a, b):\n",
    "    return a+b, a-b, a*b, a//b\n",
    "    \n",
    "print(cal(10, 3))"
   ]
  },
  {
   "cell_type": "code",
   "execution_count": 3,
   "metadata": {},
   "outputs": [
    {
     "name": "stdout",
     "output_type": "stream",
     "text": [
      "30 30 30 Hello 35\n"
     ]
    }
   ],
   "source": [
    "a = b = 30\n",
    "c, d = 30, \"Hello\"\n",
    "e = 35\n",
    "print(a, b, c, d, e)"
   ]
  },
  {
   "cell_type": "code",
   "execution_count": 18,
   "metadata": {},
   "outputs": [
    {
     "name": "stdout",
     "output_type": "stream",
     "text": [
      "['닥터 스트레인지', '슈퍼맨', '럭키']\n"
     ]
    }
   ],
   "source": [
    "movie = [\"닥터 스트레인지\", \"스플릿\", \"럭키\"]\n",
    "movie.append(\"배트맨\")\n",
    "movie.insert(1, \"슈퍼맨\")\n",
    "movie.pop(2)\n",
    "movie.remove(\"배트맨\")\n",
    "print(movie)"
   ]
  },
  {
   "cell_type": "code",
   "execution_count": 23,
   "metadata": {},
   "outputs": [
    {
     "name": "stdout",
     "output_type": "stream",
     "text": [
      "apple banna cake\n"
     ]
    }
   ],
   "source": [
    "temp = ('apple', 'banna', 'cake')\n",
    "a, b, c = temp\n",
    "print(a, b, c)"
   ]
  },
  {
   "cell_type": "code",
   "execution_count": null,
   "metadata": {},
   "outputs": [],
   "source": []
  }
 ],
 "metadata": {
  "kernelspec": {
   "display_name": "Python 3",
   "language": "python",
   "name": "python3"
  },
  "language_info": {
   "codemirror_mode": {
    "name": "ipython",
    "version": 3
   },
   "file_extension": ".py",
   "mimetype": "text/x-python",
   "name": "python",
   "nbconvert_exporter": "python",
   "pygments_lexer": "ipython3",
   "version": "3.12.2"
  }
 },
 "nbformat": 4,
 "nbformat_minor": 2
}
